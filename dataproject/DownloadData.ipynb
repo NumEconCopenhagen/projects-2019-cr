{
 "cells": [
  {
   "cell_type": "code",
   "execution_count": null,
   "metadata": {},
   "outputs": [],
   "source": [
    "#To acces data:\n",
    "\n",
    "#Step 1:\n",
    "#Download kaggle package\n",
    "#Download pandas package\n",
    "\n",
    "#Step 2: \n",
    "#Create user on kaggle.com\n",
    "\n",
    "#Step 3:\n",
    "#Run this code:\n",
    "\n",
    "import kaggle\n",
    "import pandas as pd\n",
    "\n",
    "kaggle.api.dataset_download_files(\"zynicide/nfl-football-player-stats\", unzip=True)"
   ]
  }
 ],
 "metadata": {
  "kernelspec": {
   "display_name": "Python 3",
   "language": "python",
   "name": "python3"
  },
  "language_info": {
   "codemirror_mode": {
    "name": "ipython",
    "version": 3
   },
   "file_extension": ".py",
   "mimetype": "text/x-python",
   "name": "python",
   "nbconvert_exporter": "python",
   "pygments_lexer": "ipython3",
   "version": "3.7.1"
  }
 },
 "nbformat": 4,
 "nbformat_minor": 2
}
