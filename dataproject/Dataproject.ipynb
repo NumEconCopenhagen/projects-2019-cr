{
 "cells": [
  {
   "cell_type": "markdown",
   "metadata": {},
   "source": [
    "# NFL dataproject\n",
    "\n",
    "American football players are tall, big, and earn a lot of money. \n",
    "\n",
    "Even if you do not know anything about the American national sport, these statements are probably not too far from your own idea of the sport and its players. \n",
    "\n",
    "This paper will examine just how big American football players in the National Football League (NFL) are and how much money they make. Do bigger players make more money? How different are the body types of the players when sorting by positions? Which position suits your body type the best? \n",
    "\n",
    "Continue reading to find out. "
   ]
  },
  {
   "cell_type": "code",
   "execution_count": 1,
   "metadata": {},
   "outputs": [],
   "source": [
    "import pandas as pd\n",
    "import matplotlib.pyplot as plt\n",
    "import numpy as np\n",
    "import statsmodels.api as sm\n",
    "import ipywidgets as widgets\n",
    "\n",
    "data = pd.read_csv(\"spillere.csv\")\n",
    "\n",
    "#Choosing relevant variables\n",
    "variable = ['name','position','current_salary','weight',\"height\"]\n",
    "data=data[variable]\n",
    "\n",
    "#Removing all data of players with missing heights, weights or salaries\n",
    "data = data.dropna(subset=[\"height\"])\n",
    "data=data.dropna(subset=[\"current_salary\"])\n",
    "data=data.dropna(subset=[\"weight\"])\n",
    "\n",
    "#Creating function to convert feet-inches to centimeters \n",
    "def calcAmericanHeightToCM(x):\n",
    "    \"\"\" This function convert feet-inches to centimeters\n",
    "    \n",
    "    Args:\n",
    "    \n",
    "        x (float): The input is feet-inches\n",
    "        \n",
    "    Returns:\n",
    "    \n",
    "        cm (float): Return the height in cm\n",
    "    \n",
    "    \"\"\"\n",
    "    x = str(x)\n",
    "    m = x.split(\"-\")\n",
    "    cm = float(m[0])*30.48 + float(m[1]) * 2.54 \n",
    "    return(cm)\n",
    "\n",
    "#Calling the function to convert the height from feet-inches to centimeters\n",
    "data['height'] = data.height.apply(calcAmericanHeightToCM)\n",
    "\n",
    "#Removing commas from salaries\n",
    "data[\"current_salary\"]=data[\"current_salary\"].str.replace(',','') \n",
    "\n",
    "#Choosing columns with numeric values\n",
    "cols = ['current_salary','weight',\"height\"]  \n",
    "\n",
    "#Converting columns to numeric values\n",
    "for col in cols: \n",
    "    data[col] = pd.to_numeric(data[col]) \n",
    "\n",
    "#Converting weight from pounds to kilos\n",
    "data[\"weight\"]=data[\"weight\"]*0.45359237 \n",
    "\n",
    "#Simplifying Positions \n",
    "#Linebackers\n",
    "data[\"position\"]=data[\"position\"].replace({\"OLB\":\"LB\",\"ILB\":\"LB\",\"LB-DE\":\"LB\"})\n",
    "#Defensive Backs\n",
    "data[\"position\"]=data[\"position\"].replace({\"S\":\"DB\",\"CB\":\"DB\",\"SS\":\"DB\",\"FS\":\"DB\"})\n",
    "#Defensive Linemen\n",
    "data[\"position\"]=data[\"position\"].replace({\"DT\":\"DL\",\"DE\":\"DL\",\"NT\":\"DL\",\"DE-C\":\"DL\"})\n",
    "#Offensive Linemen\n",
    "data[\"position\"]=data[\"position\"].replace({\"G\":\"OL\",\"T\":\"OL\",\"OT\":\"OL\",\"OG\":\"OL\",\"LS\":\"OL\",\"LS,TE\":\"OL\",\"C\":\"OL\"})\n",
    "#Skill Positions\n",
    "data[\"position\"]=data[\"position\"].replace({\"WR\":\"SP\",\"RB\":\"SP\",\"FB\":\"SP\",\"TE\":\"SP\",\"WR/RB\":\"SP\"})\n",
    "#Special Teams\n",
    "data[\"position\"]=data[\"position\"].replace({\"K\":\"ST\",\"P\":\"ST\"})"
   ]
  },
  {
   "cell_type": "markdown",
   "metadata": {},
   "source": [
    "The data set we are working with is scraped from nfl.com in April 2017 by Kaggle user zackthoutt and contains player data, dating back to the 1940s. We are only interested in the players currently playing and the variables describing their height, weight, current salary, poisiton, and name.\n",
    "\n",
    "We convert their weight from pounds to kilos and height from feet-inches to centimeters. \n",
    "\n",
    "$ $\n",
    "$ $\n",
    "$ $\n",
    "$ $\n",
    "\n",
    "Furthermore, we simplify their position into 7 categories: \n",
    "\n",
    "#### Offense:\n",
    "\n",
    " **Quarterbacks (QB):** The person distributing the ball on offense. Either by throwing the ball to a receiver or by handing it off to a running back.\n",
    "\n",
    "**Skill Positions (SP):** Containing the athletic positions of wide receivers, running backs, and tight ends who either run or catch the ball from the quarterback. \n",
    "\n",
    "**Offensive Linemen (OL):** The big guys up front who protect the quarterback or block for the running back. \n",
    "\n",
    "#### Defense:\n",
    "\n",
    "**Defensive Linemen (DL):** The big guys up front on the defense. They stop the run or attack the quarterback.\n",
    "\n",
    "**Defensive Backs (DB):** The athletic guys on defense. Covering the receivers to prevent them from catching the ball.\n",
    "\n",
    "**Linebackers (LB):** Medium sized players. A mix of the defensive linemen and defensive backs. \n",
    "\n",
    "#### Special Teams: \n",
    "\n",
    "**Special Teams (ST):** The kickers and punters who kick the ball in difference situations.  \n",
    "\n",
    "$ $\n",
    "$ $\n",
    "$ $\n",
    "$ $\n",
    "\n",
    "First, we want to see how the pay differs across positions. Notice that a big part of NFL players pay comes from bonuses and not actual salaries which deflates the numbers in this paper.  \n",
    "\n"
   ]
  },
  {
   "cell_type": "code",
   "execution_count": 2,
   "metadata": {},
   "outputs": [
    {
     "data": {
      "image/png": "[encoded data removed]",
      "text/plain": [
       "<Figure size 432x288 with 1 Axes>"
      ]
     },
     "metadata": {
      "needs_background": "light"
     },
     "output_type": "display_data"
    }
   ],
   "source": [
    "#Calculating average salary by position\n",
    "loen=data.groupby('position')[\"current_salary\"].mean()\n",
    "#Creating array with just position names\n",
    "positioner=data.position.unique()\n",
    "positioner=sorted(positioner)\n",
    "#Counting amount of players in each position\n",
    "tael_positioner=data.groupby('position')[\"name\"].nunique()\n",
    "#Plot\n",
    "farver=('red','blue','yellow','green','pink','black','orange')\n",
    "plt.scatter(positioner, loen/1000000, s=tael_positioner*1,c=farver)\n",
    "plt.xlabel(\"Position\")\n",
    "plt.ylabel(\"Average Salary (USD millions)\")\n",
    "plt.title(\"Average Salary by Position\",fontsize=20)\n",
    "plt.grid(True)"
   ]
  },
  {
   "cell_type": "markdown",
   "metadata": {},
   "source": [
    "The quarterback position stands out with an average salary above 4 million dollars a year. As the size of its circle indicates, this position group is very small. Most teams consist of just two quarterbacks: A starting quarterback and a backup quarterback in case of injury. As the quarterback position is the most important on an american football team, it is only natural to see this huge salary compared to other positions.\n",
    "\n",
    "The average pay of the other positions are all around 1 to 2 millions dollars a year while the group sizes vary a lot. \n",
    "\n",
    "Most top players easily make 10 - 20 million dollars a year depending on position but the low average salaries in this graph is due to the huge amount of backup players in the sport. \n",
    "\n",
    "$ $\n",
    "$ $\n",
    "$ $\n",
    "$ $\n",
    "\n",
    "To examine the height and weight of the players, we present the following graph:"
   ]
  },
  {
   "cell_type": "code",
   "execution_count": 3,
   "metadata": {},
   "outputs": [
    {
     "data": {
      "image/png": "[encoded data removed]",
      "text/plain": [
       "<Figure size 432x288 with 1 Axes>"
      ]
     },
     "metadata": {
      "needs_background": "light"
     },
     "output_type": "display_data"
    }
   ],
   "source": [
    "#Calculating average height and weight by position \n",
    "hoejde=data.groupby('position')[\"height\"].mean()\n",
    "vaegt=data.groupby('position')[\"weight\"].mean()\n",
    "\n",
    "#Plot\n",
    "plt.scatter(vaegt,hoejde,s=tael_positioner,c=farver)\n",
    "plt.xlabel(\"Weight (kg)\")\n",
    "plt.ylabel(\"Height (cm)\")\n",
    "plt.title(\"Average Weight and Height by Position\", fontsize=20)\n",
    "plt.grid(True)\n",
    "plt.text(100,192,\"QB\")\n",
    "plt.text(89,183,\"DB\")\n",
    "plt.text(91,185.5,\"ST\")\n",
    "plt.text(98,186.5,\"SP\")\n",
    "plt.text(107,188,\"LB\")\n",
    "plt.text(129.5,192.5,\"DL\")\n",
    "plt.text(137.5,193.5,\"OL\")\n",
    "plt.show()"
   ]
  },
  {
   "cell_type": "markdown",
   "metadata": {},
   "source": [
    "The graph pretty much shows the expected distrubtion of the average height and weight of the different positions. \n",
    "\n",
    "The athletic defensive backs and skill position players are the lightest and shortest. But compared to average people \"light\" would not be fitting. These players are very muscular with an average weight of 90 and 100 kilos with heights just above the male population averages.\n",
    "\n",
    "In the other end we have the huge defensive and offensive linemen with stunning average weights of 130 and 140 kilos.\n",
    "\n",
    "In between, we have the linebackers as expected.\n",
    "\n",
    "The quarterback is the only position standing out being very tall compared to his weight. Quarterbacks need to throw the ball while huge defensive and offensive linemen are around them. Height is a big advantage, allowing the quarterback to maintain vision and to throw the ball. On the other hand, strenght and muscle mass are not as important for a quarterback compared to the rest of the positions.  \n",
    "\n",
    "$ $\n",
    "$ $\n",
    "$ $\n",
    "$ $\n",
    "\n",
    "Next, we want to zoom in on a specific position. The tallest and heaviest position is the offensive lineman. You have to be big to play this position but is it an advantage to be big compared to others playing this position. In the next graph we examine if heavier offensive linemen earn more. "
   ]
  },
  {
   "cell_type": "code",
   "execution_count": 4,
   "metadata": {},
   "outputs": [
    {
     "data": {
      "image/png": "[encoded data removed]",
      "text/plain": [
       "<Figure size 432x288 with 1 Axes>"
      ]
     },
     "metadata": {
      "needs_background": "light"
     },
     "output_type": "display_data"
    }
   ],
   "source": [
    "#Creating a dataset only countaining offensive linemen\n",
    "OLdata=data.copy()\n",
    "OLdata=OLdata.loc[data[\"position\"]==\"OL\"]\n",
    "OLdata.loc[:,\"current_salary\"]=OLdata[\"current_salary\"]/1000000\n",
    "\n",
    "#Plot \n",
    "plt.scatter(OLdata[\"weight\"],OLdata[\"current_salary\"],c=\"green\")\n",
    "plt.xlabel(\"Weight (kg)\")\n",
    "plt.ylabel(\"Salary (USD millions)\")\n",
    "plt.title(\"Weight and Salary for Offensive Linemen\",fontsize=20)\n",
    "plt.grid(True)\n",
    "\n",
    "#Adding trend line \n",
    "plt.plot(np.unique(OLdata[\"weight\"]), np.poly1d(np.polyfit(OLdata[\"weight\"], OLdata[\"current_salary\"], 1))(np.unique(OLdata[\"weight\"])),c=\"red\")\n",
    "plt.show()"
   ]
  },
  {
   "cell_type": "markdown",
   "metadata": {},
   "source": [
    "The data shows that heavier linemen on average earn more than lighter linemen. We cannot be sure that this is entirely because of the weight itself and not other factors. As we have multiple positions included in the \"offensive linemen\" group this could also be an effect of a heavier position that on average earn more which bias the results. We will not go further into that. \n",
    "\n",
    "$ $\n",
    "$ $\n",
    "$ $\n",
    "$ $\n",
    "\n",
    "To see if this added trendline actually shows a significant increase in pay by weight we make a simple OLS-regression: \n",
    "\n",
    "$$Salary = \\beta_{0} + \\beta_{1}\\cdot Weight + \\epsilon$$ "
   ]
  },
  {
   "cell_type": "code",
   "execution_count": 5,
   "metadata": {},
   "outputs": [
    {
     "name": "stdout",
     "output_type": "stream",
     "text": [
      "                            OLS Regression Results                            \n",
      "==============================================================================\n",
      "Dep. Variable:                      y   R-squared:                       0.014\n",
      "Model:                            OLS   Adj. R-squared:                  0.011\n",
      "Method:                 Least Squares   F-statistic:                     4.252\n",
      "Date:                Tue, 30 Apr 2019   Prob (F-statistic):             0.0401\n",
      "Time:                        15:28:49   Log-Likelihood:                -657.00\n",
      "No. Observations:                 299   AIC:                             1318.\n",
      "Df Residuals:                     297   BIC:                             1325.\n",
      "Df Model:                           1                                         \n",
      "Covariance Type:            nonrobust                                         \n",
      "==============================================================================\n",
      "                 coef    std err          t      P>|t|      [0.025      0.975]\n",
      "------------------------------------------------------------------------------\n",
      "const         -1.6061      1.589     -1.011      0.313      -4.733       1.521\n",
      "x1             0.0236      0.011      2.062      0.040       0.001       0.046\n",
      "==============================================================================\n",
      "Omnibus:                      238.177   Durbin-Watson:                   1.881\n",
      "Prob(Omnibus):                  0.000   Jarque-Bera (JB):             3406.676\n",
      "Skew:                           3.243   Prob(JB):                         0.00\n",
      "Kurtosis:                      18.211   Cond. No.                     1.75e+03\n",
      "==============================================================================\n",
      "\n",
      "Warnings:\n",
      "[1] Standard Errors assume that the covariance matrix of the errors is correctly specified.\n",
      "[2] The condition number is large, 1.75e+03. This might indicate that there are\n",
      "strong multicollinearity or other numerical problems.\n"
     ]
    }
   ],
   "source": [
    "#Assigning dependent variable Y to salary and explanatory variable X to weight and adding constant\n",
    "Y = np.array(OLdata[\"current_salary\"])\n",
    "X = np.array(OLdata[\"weight\"])\n",
    "X = sm.add_constant(X)\n",
    "\n",
    "#Estimating OLS\n",
    "results = sm.OLS(Y, X).fit()\n",
    "print(results.summary())"
   ]
  },
  {
   "cell_type": "markdown",
   "metadata": {},
   "source": [
    "Weight has a positive and significant effect on salary. An 1 kilo increase in weight increases salary by 23,600 dollars a year on average.\n",
    "\n",
    "$ $\n",
    "$ $\n",
    "$ $\n",
    "$ $\n",
    "\n",
    "If you should play american football and you should earn these kind of money which position would suit you the best? Try out the interactive graph below and put in your weight and your height to see where you fit among the american football positions described in this paper."
   ]
  },
  {
   "cell_type": "code",
   "execution_count": 6,
   "metadata": {},
   "outputs": [
    {
     "data": {
      "application/vnd.jupyter.widget-view+json": {
       "model_id": "6fce1add71584302a105100c9670826e",
       "version_major": 2,
       "version_minor": 0
      },
      "text/plain": [
       "interactive(children=(FloatSlider(value=180.0, description='Height', max=220.0, min=140.0, step=1.0), FloatSli…"
      ]
     },
     "metadata": {},
     "output_type": "display_data"
    }
   ],
   "source": [
    "#Defining function to make the known graph of weight and height averages but with an added scatterpoint (\"you\")\n",
    "def punkt(b,c):\n",
    "    \n",
    "    plt.scatter(c,b,s=100)\n",
    "    plt.text(c+1,b,\"You\")\n",
    "    \n",
    "    plt.scatter(vaegt,hoejde,s=tael_positioner,c=farver)\n",
    "    plt.xlabel(\"Weight (kg)\")\n",
    "    plt.ylabel(\"Height (cm)\")\n",
    "    plt.title(\"Average Weight and Height by Position\", fontsize=20)\n",
    "    plt.grid(True)\n",
    "    plt.text(100,192,\"QB\")\n",
    "    plt.text(89,183,\"DB\")\n",
    "    plt.text(91,185.5,\"ST\")\n",
    "    plt.text(98,186.5,\"SP\")\n",
    "    plt.text(107,188,\"LB\")\n",
    "    plt.text(129.5,192.5,\"DL\")\n",
    "    plt.text(137.5,193.5,\"OL\")\n",
    "    \n",
    "#Making a widget to change the point \"you\" in the graph. The point changes as weight and height changes.  \n",
    "import ipywidgets as widgets\n",
    "widgets.interact(punkt,\n",
    "    X=widgets.fixed(X),\n",
    "    b=widgets.FloatSlider(description=\"Height\", min=140, max=220, step=1, value=180),\n",
    "    c=widgets.FloatSlider(description=\"Weight\", min=40, max=200, step=1, value=75)\n",
    "    );"
   ]
  },
  {
   "cell_type": "code",
   "execution_count": null,
   "metadata": {},
   "outputs": [],
   "source": []
  }
 ],
 "metadata": {
  "kernelspec": {
   "display_name": "Python 3",
   "language": "python",
   "name": "python3"
  },
  "language_info": {
   "codemirror_mode": {
    "name": "ipython",
    "version": 3
   },
   "file_extension": ".py",
   "mimetype": "text/x-python",
   "name": "python",
   "nbconvert_exporter": "python",
   "pygments_lexer": "ipython3",
   "version": "3.7.1"
  }
 },
 "nbformat": 4,
 "nbformat_minor": 2
}
