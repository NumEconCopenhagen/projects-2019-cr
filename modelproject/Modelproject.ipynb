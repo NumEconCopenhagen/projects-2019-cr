{
 "cells": [
  {
   "cell_type": "markdown",
   "metadata": {},
   "source": [
    "# Solow-model\n",
    "\n",
    "In this project we are working with the Solow-model with human capital.\n",
    "The parameters in the model are as follow:\n",
    "1. $K_t$ is capital\n",
    "* $H_t$ is human capital\n",
    "* $L_t$ is labor\n",
    "* $A_t$ is technology\n",
    "* $Y_t$ is GDP\n",
    "\n",
    "\n",
    "$Y_t=K_t^{\\alpha}H_t^{\\varphi}(A_tL_t)^{1-\\alpha-\\varphi}$\n",
    "\n",
    "$K_{t-1}-K_t=s_KY_t-\\delta K_t$\n",
    "\n",
    "$H_{t-1}-H_t=s_HY_t-\\delta H_t$\n",
    "\n",
    "\n",
    "$s_K = \\frac{Y_t}{I_t^{K}}$,\n",
    "$s_H = \\frac{Y_t}{I_t^{H}}$\n",
    "\n",
    "\n",
    "$\\tilde{k}_t = \\frac{K_t}{A_{t}L_{t}}$, $\\tilde{h}_t = \\frac{H_t}{A_{t}L_{t}}$\n",
    "\n",
    "$\\tilde{y}_t = \\tilde{k}_t^{\\alpha}\\tilde{h}_t^{\\varphi}$\n",
    "\n",
    "\n",
    "Transitions equation:\n",
    "\n",
    "$\\tilde{k}_{t+1} = \\frac{1}{(1+n)(1+g)}(s_K \\tilde{k}_t^{\\alpha}\\tilde{h}_t^{\\varphi}+(1-\\delta)\\tilde{k}_t)$\n",
    "\n",
    "$\\tilde{h}_{t+1} = \\frac{1}{(1+n)(1+g)}(s_H \\tilde{k}_t^{\\alpha}\\tilde{h}_t^{\\varphi}+(1-\\delta)\\tilde{h}_t)$"
   ]
  },
  {
   "cell_type": "code",
   "execution_count": 15,
   "metadata": {},
   "outputs": [],
   "source": [
    "import numpy as np\n",
    "import matplotlib.pyplot as plt\n",
    "def solow_equation(k,h,alpha,phi,delta,sK,sH,n,g):\n",
    "    \"\"\" calculate capital and human capital in the next-period\n",
    "        \n",
    "    Args:\n",
    "    \n",
    "        k (float): capital in this period\n",
    "        h (float): human capital in this period\n",
    "        alpha (float): Parameter wrt. capital, empirical around 1/3\n",
    "        phi (float) = Parameter wrt. human capital, empirical around 1/3\n",
    "        delta (float): depreciation rate\n",
    "        sK (float): saving rate wrt. capital\n",
    "        sH (float): saving rate wrt. human capital\n",
    "        n (float): growth in population\n",
    "        g (float): growth in technology\n",
    "    \n",
    "    Returns:\n",
    "    \n",
    "        k_plus (float): capital in next period\n",
    "        h_plus (float): human capital in next period\n",
    "        \n",
    "    \"\"\"\n",
    "    \n",
    "    k_plus = (1/(1+n)*(1+g)) *(sK * k**(alpha) * h**(phi) + (1-delta)*k)    \n",
    "    h_plus = (1/(1+n)*(1+g)) *(sH * k**(alpha) * h**(phi) + (1-delta)*h)\n",
    "    \n",
    "    return k_plus, h_plus\n",
    "   \n"
   ]
  },
  {
   "cell_type": "code",
   "execution_count": 16,
   "metadata": {},
   "outputs": [
    {
     "data": {
      "text/plain": [
       "(2.141101126592248, 2.141101126592248)"
      ]
     },
     "execution_count": 16,
     "metadata": {},
     "output_type": "execute_result"
    }
   ],
   "source": [
    "solow_equation(8,8,0.3,0.3,0.95,0.5,0.5,500,500)"
   ]
  },
  {
   "cell_type": "code",
   "execution_count": 32,
   "metadata": {},
   "outputs": [],
   "source": [
    "def simulate_solow_model(k0,h0,alpha,phi,delta,sK,sH,n,g,T):\n",
    "    \"\"\" simulate the solow model\n",
    "        \n",
    "    Args:\n",
    "    \n",
    "        k0 (float): initial level of kapital\n",
    "        h (float): initial level of kapital\n",
    "        alpha (float): Parameter wrt. capital, empirical around 1/3\n",
    "        phi (float) = Parameter wrt. human capital, empirical around 1/3\n",
    "        delta (float): depreciation rate\n",
    "        sK (float): saving rate wrt. capital\n",
    "        sH (float): saving rate wrt. human capital\n",
    "        n (float): growth in population\n",
    "        g (float): growth in technology\n",
    "        T (int): number of periods to simulate\n",
    "    \n",
    "    Returns:\n",
    "    \n",
    "        k_path (list): capital path (length T)\n",
    "     \n",
    "        \n",
    "    \"\"\"\n",
    "    \n",
    "    # a. initialize\n",
    "    k_path = [k0]\n",
    "    h_path = [h0]\n",
    "   \n",
    "    \n",
    "    # b. simulate forward\n",
    "    for t in range(1,T):\n",
    "        \n",
    "        # i. apply solow equation\n",
    "        k_plus = solow_equation(k_path[t-1],h_path[t-1],alpha,phi,delta,sK,sH,n,g)[0]  \n",
    "        h_plus = solow_equation(k_path[t-1],h_path[t-1],alpha,phi,delta,sK,sH,n,g)[1] \n",
    "        \n",
    "        # ii. save result\n",
    "        k_path.append(k_plus)\n",
    "        h_path.append(h_plus)\n",
    "        \n",
    "    return k_path, h_path\n"
   ]
  },
  {
   "cell_type": "code",
   "execution_count": 53,
   "metadata": {},
   "outputs": [
    {
     "data": {
      "text/plain": [
       "([1,\n",
       "  1.0476190476190474,\n",
       "  1.0906056888883542,\n",
       "  1.1292366800125042,\n",
       "  1.163798253744576,\n",
       "  1.1945784094085616,\n",
       "  1.221861294870178,\n",
       "  1.2459231762969947,\n",
       "  1.267029618824179,\n",
       "  1.285433592770345,\n",
       "  1.3013742870964131,\n",
       "  1.3150764617113937,\n",
       "  1.3267502079035327,\n",
       "  1.3365910149562905,\n",
       "  1.3447800632220408],\n",
       " [1,\n",
       "  0.9523809523809523,\n",
       "  0.9092646325017114,\n",
       "  0.8701674006981176,\n",
       "  0.8346636229871621,\n",
       "  0.8023778775666841,\n",
       "  0.7729783561081279,\n",
       "  0.746171244410584,\n",
       "  0.7216959139217166,\n",
       "  0.6993207902231062,\n",
       "  0.6788397906207171,\n",
       "  0.6600692429601316,\n",
       "  0.642845213368019,\n",
       "  0.6270211829506677,\n",
       "  0.6124660233600221])"
      ]
     },
     "execution_count": 53,
     "metadata": {},
     "output_type": "execute_result"
    }
   ],
   "source": [
    "simulate_solow_model(1,1,0.3,0.3,0.05,0.15,0.05,0.05,0,15)"
   ]
  },
  {
   "cell_type": "code",
   "execution_count": 49,
   "metadata": {},
   "outputs": [
    {
     "data": {
      "image/png": "[encoded data removed]",
      "text/plain": [
       "<Figure size 432x288 with 1 Axes>"
      ]
     },
     "metadata": {
      "needs_background": "light"
     },
     "output_type": "display_data"
    }
   ],
   "source": [
    "k0 =0.1\n",
    "h0 =0.1\n",
    "alpha = 0.3\n",
    "phi = 0.3\n",
    "delta = 0.05\n",
    "sK = 0.15\n",
    "sH = 0.14\n",
    "n = 0.05\n",
    "g = 0\n",
    "T = 200\n",
    "\n",
    "k_path = simulate_solow_model(k0,h,alpha,phi,delta,sK,sH,n,g,T)[0]\n",
    "h_path = simulate_solow_model(k,h0,alpha,phi,delta,sK,sH,n,g,T)[1]\n",
    "\n",
    "\n",
    "fig = plt.figure()\n",
    "ax = fig.add_subplot(1,1,1)\n",
    "\n",
    "\n",
    "ax.plot(k_path[:T],'r--',label=\"Capital\")\n",
    "ax.plot(h_path[:T], label=\"Human capital\")\n",
    "plt.legend()\n",
    "plt.title(\"Steady State for capital and human capital\")\n",
    "plt.show()"
   ]
  },
  {
   "cell_type": "code",
   "execution_count": null,
   "metadata": {},
   "outputs": [],
   "source": []
  },
  {
   "cell_type": "code",
   "execution_count": null,
   "metadata": {},
   "outputs": [],
   "source": []
  }
 ],
 "metadata": {
  "kernelspec": {
   "display_name": "Python 3",
   "language": "python",
   "name": "python3"
  },
  "language_info": {
   "codemirror_mode": {
    "name": "ipython",
    "version": 3
   },
   "file_extension": ".py",
   "mimetype": "text/x-python",
   "name": "python",
   "nbconvert_exporter": "python",
   "pygments_lexer": "ipython3",
   "version": "3.7.1"
  }
 },
 "nbformat": 4,
 "nbformat_minor": 2
}
