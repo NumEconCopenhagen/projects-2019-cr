{
 "cells": [
  {
   "cell_type": "markdown",
   "metadata": {},
   "source": [
    "# Solow-model\n",
    "\n",
    "In this project we are working with the Solow-model with human capital.\n",
    "The parameters in the model are as follow:\n",
    "1. $K_t$ is capital\n",
    "* $H_t$ is human capital\n",
    "* $L_t$ is labor\n",
    "* $A_t$ is technology\n",
    "* $Y_t$ is GDP\n",
    "\n",
    "\n",
    "$Y_t=K_t^{\\alpha}H_t^{\\varphi}(A_tL_t)^{1-\\alpha-\\varphi}$\n",
    "\n",
    "$K_{t-1}-K_t=s_KY_t-\\delta K_t$\n",
    "\n",
    "$H_{t-1}-H_t=s_HY_t-\\delta H_t$\n",
    "\n",
    "\n",
    "$s_K = \\frac{Y_t}{I_t^{K}}$,\n",
    "$s_H = \\frac{Y_t}{I_t^{H}}$\n",
    "\n",
    "\n",
    "$\\tilde{k}_t = \\frac{K_t}{A_{t}L_{t}}$, $\\tilde{h}_t = \\frac{H_t}{A_{t}L_{t}}$\n",
    "\n",
    "$\\tilde{y}_t = \\tilde{k}_t^{\\alpha}\\tilde{h}_t^{\\varphi}$\n",
    "\n",
    "\n",
    "Transitions equations:\n",
    "\n",
    "$\\tilde{k}_{t+1} = \\frac{1}{(1+n)(1+g)}(s_K \\tilde{k}_t^{\\alpha}\\tilde{h}_t^{\\varphi}+(1-\\delta)\\tilde{k}_t)$\n",
    "\n",
    "$\\tilde{h}_{t+1} = \\frac{1}{(1+n)(1+g)}(s_H \\tilde{k}_t^{\\alpha}\\tilde{h}_t^{\\varphi}+(1-\\delta)\\tilde{h}_t)$\n",
    "\n",
    "Solow equations:\n",
    "\n",
    "$\\tilde{k}_{t+1}-\\tilde{k}_{t}=\\frac{1}{(1+n)(1+g)}(s_K \\tilde{k}_t^{\\alpha}\\tilde{h}_t^{\\varphi}-(n+g+\\delta+ng)\\tilde{k}_{t})$\n",
    "\n",
    "$\\tilde{h}_{t+1}-\\tilde{h}_{t}=\\frac{1}{(1+n)(1+g)}(s_H \\tilde{k}_t^{\\alpha}\\tilde{h}_t^{\\varphi}-(n+g+\\delta+ng)\\tilde{h}_{t})$"
   ]
  },
  {
   "cell_type": "code",
   "execution_count": 102,
   "metadata": {},
   "outputs": [],
   "source": [
    "import numpy as np\n",
    "import matplotlib.pyplot as plt\n",
    "from scipy import linalg\n",
    "from scipy import optimize\n",
    "\n",
    "\n",
    "def solow_equation(k,h,alpha,phi,delta,sK,sH,n,g):\n",
    "    \"\"\" calculate capital and human capital in the next-period\n",
    "        \n",
    "    Args:\n",
    "    \n",
    "        k (float): capital in this period\n",
    "        h (float): human capital in this period\n",
    "        alpha (float): Parameter wrt. capital, empirical around 1/3\n",
    "        phi (float) = Parameter wrt. human capital, empirical around 1/3\n",
    "        delta (float): depreciation rate\n",
    "        sK (float): saving rate wrt. capital\n",
    "        sH (float): saving rate wrt. human capital\n",
    "        n (float): growth in population\n",
    "        g (float): growth in technology\n",
    "    \n",
    "    Returns:\n",
    "    \n",
    "        k_plus (float): capital in next period\n",
    "        h_plus (float): human capital in next period\n",
    "        \n",
    "    \"\"\"\n",
    "    \n",
    "    k_plus = (1/(1+n)*(1+g)) *(sK * k**(alpha) * h**(phi) + (1-delta)*k)    \n",
    "    h_plus = (1/(1+n)*(1+g)) *(sH * k**(alpha) * h**(phi) + (1-delta)*h)\n",
    "    \n",
    "    return k_plus, h_plus\n",
    "   \n"
   ]
  },
  {
   "cell_type": "code",
   "execution_count": 103,
   "metadata": {},
   "outputs": [
    {
     "data": {
      "text/plain": [
       "(4.277928598241199, 4.277928598241199)"
      ]
     },
     "execution_count": 103,
     "metadata": {},
     "output_type": "execute_result"
    }
   ],
   "source": [
    "solow_equation(8,8,0.3,0.3,0.95,0.5,0.5,500,1000)"
   ]
  },
  {
   "cell_type": "code",
   "execution_count": 104,
   "metadata": {},
   "outputs": [],
   "source": [
    "def simulate_solow_model(k0,h0,alpha,phi,delta,sK,sH,n,g,T):\n",
    "    \"\"\" simulate the solow model\n",
    "        \n",
    "    Args:\n",
    "    \n",
    "        k0 (float): initial level of kapital\n",
    "        h (float): initial level of human kapital\n",
    "        alpha (float): Parameter wrt. capital, empirical around 1/3\n",
    "        phi (float) = Parameter wrt. human capital, empirical around 1/3\n",
    "        delta (float): depreciation rate\n",
    "        sK (float): saving rate wrt. capital\n",
    "        sH (float): saving rate wrt. human capital\n",
    "        n (float): growth in population\n",
    "        g (float): growth in technology\n",
    "        T (int): number of periods to simulate\n",
    "    \n",
    "    Returns:\n",
    "    \n",
    "        k_path (list): capital path (length T)\n",
    "        h_path (list): human capital path (length T)\n",
    "        \n",
    "    \"\"\"\n",
    "    \n",
    "    # a. initialize\n",
    "    k_path = [k0]\n",
    "    h_path = [h0]\n",
    "   \n",
    "    \n",
    "    # b. simulate forward\n",
    "    for t in range(1,T):\n",
    "        \n",
    "        # i. apply solow equation\n",
    "        k_plus = solow_equation(k_path[t-1],h_path[t-1],alpha,phi,delta,sK,sH,n,g)[0]  \n",
    "        h_plus = solow_equation(k_path[t-1],h_path[t-1],alpha,phi,delta,sK,sH,n,g)[1] \n",
    "        \n",
    "        # ii. save result\n",
    "        k_path.append(k_plus)\n",
    "        h_path.append(h_plus)\n",
    "        \n",
    "    return k_path, h_path\n"
   ]
  },
  {
   "cell_type": "code",
   "execution_count": 105,
   "metadata": {},
   "outputs": [
    {
     "data": {
      "text/plain": [
       "([0.3,\n",
       "  0.3522877523410084,\n",
       "  0.4047144441450239,\n",
       "  0.45705558438359467,\n",
       "  0.5091436705092961,\n",
       "  0.5608498315099577,\n",
       "  0.6120721867309576,\n",
       "  0.6627283034203473,\n",
       "  0.7127502171530581,\n",
       "  0.762081085425558],\n",
       " [0.5,\n",
       "  0.522458909171731,\n",
       "  0.5472151032930342,\n",
       "  0.5738667024489372,\n",
       "  0.6020809616007525,\n",
       "  0.6315764807702755,\n",
       "  0.6621114146480014,\n",
       "  0.6934753964631387,\n",
       "  0.7254838296189005,\n",
       "  0.7579737273833608])"
      ]
     },
     "execution_count": 105,
     "metadata": {},
     "output_type": "execute_result"
    }
   ],
   "source": [
    "simulate_solow_model(0.3,0.5,0.3,0.3,0.05,0.15,0.13,0.05,0,10)"
   ]
  },
  {
   "cell_type": "code",
   "execution_count": 106,
   "metadata": {},
   "outputs": [
    {
     "data": {
      "application/vnd.jupyter.widget-view+json": {
       "model_id": "07f1e9b0e16045c2a90eae3f8d1c089c",
       "version_major": 2,
       "version_minor": 0
      },
      "text/plain": [
       "interactive(children=(FloatSlider(value=1.0, description='\\\\(k_0\\\\)', max=5.0, step=0.2, style=SliderStyle(des…"
      ]
     },
     "metadata": {},
     "output_type": "display_data"
    }
   ],
   "source": [
    "style = {'description_width': \"initial\"}\n",
    "\n",
    "def simulation(k0=0.1,h0=0.1,alpha=0.3,phi=0.3,delta=0.05,sK=0.15,sH=0.14,n=0.05,g=0,T=200):\n",
    "    k_path = simulate_solow_model(k0,h0,alpha,phi,delta,sK,sH,n,g,T)[0]\n",
    "    h_path = simulate_solow_model(k0,h0,alpha,phi,delta,sK,sH,n,g,T)[1]\n",
    "    \n",
    "    \"\"\" simulate the solow model\n",
    "        \n",
    "    Args:\n",
    "    \n",
    "        k0 (float): initial level of kapital\n",
    "        h (float): initial level of human kapital\n",
    "        alpha (float): Parameter wrt. capital, empirical around 1/3\n",
    "        phi (float) = Parameter wrt. human capital, empirical around 1/3\n",
    "        delta (float): depreciation rate\n",
    "        sK (float): saving rate wrt. capital\n",
    "        sH (float): saving rate wrt. human capital\n",
    "        n (float): growth in population\n",
    "        g (float): growth in technology\n",
    "        T (int): number of periods to simulate\n",
    "    \n",
    "    Returns:\n",
    "    \n",
    "        k_path (list): capital path (length T)\n",
    "        h_path (list): human capital path (length T)\n",
    "        \n",
    "    \"\"\"\n",
    "    \n",
    "    \n",
    "    \n",
    "    fig = plt.figure()\n",
    "    ax = fig.add_subplot(1,1,1)\n",
    "    ax.plot(k_path[:T],'r--',label=\"Capital\")\n",
    "    ax.plot(h_path[:T],label=\"Human capital\")\n",
    "    plt.legend()\n",
    "    plt.title(\"Steady State for capital and human capital\")\n",
    "\n",
    "import ipywidgets as widgets\n",
    "widgets.interact(simulation,\n",
    "    k0=widgets.FloatSlider(description=r\"\\(k_0\\)\", min=0, max=5, step=0.2, value=1, style=style),\n",
    "    h0=widgets.FloatSlider(description=r\"\\(h_0\\)\", min=0, max=5, step=0.2, value=0.5, style=style),\n",
    "    alpha=widgets.FloatSlider(description=r\"\\(\\alpha\\)\", min=0, max=1, step=0.01, value=0.3,style=style),\n",
    "    phi=widgets.FloatSlider(description=r\"\\(\\varphi\\)\", min=0, max=1, step=0.01, value=0.3,style=style),\n",
    "    delta=widgets.FloatSlider(description=r\"\\(\\delta\\)\", min=0, max=1, step=0.01, value=0.05,style=style),\n",
    "    sK=widgets.FloatSlider(description=\"sK\", min=0, max=1, step=0.01, value=0.15, style=style),\n",
    "    sH=widgets.FloatSlider(description=\"sH\", min=0, max=1, step=0.01, value=0.15, style=style),\n",
    "    n=widgets.FloatSlider(description=r\"\\(n\\)\", min=0, max=1, step=0.01, value=0.05, style=style),\n",
    "    g=widgets.FloatSlider(description=r\"\\(g\\)\", min=0, max=1, step=0.01, value=0, style=style),\n",
    "    T=widgets.IntSlider(description=r\"\\(T\\)\", min=1, max=500, step=5, value=150, style=style)\n",
    "    );\n"
   ]
  },
  {
   "cell_type": "code",
   "execution_count": 107,
   "metadata": {},
   "outputs": [
    {
     "data": {
      "image/png": "[encoded data removed]",
      "text/plain": [
       "<Figure size 432x288 with 1 Axes>"
      ]
     },
     "metadata": {
      "needs_background": "light"
     },
     "output_type": "display_data"
    }
   ],
   "source": [
    "k0 =0.3\n",
    "h0 =0.5\n",
    "alpha = 0.3\n",
    "phi = 0.3\n",
    "delta = 0.05\n",
    "sK = 0.15\n",
    "sH = 0.13\n",
    "n = 0.05\n",
    "g = 0\n",
    "T = 99\n",
    "\n",
    "k_path = simulate_solow_model(k0,h0,alpha,phi,delta,sK,sH,n,g,T)[0]\n",
    "h_path = simulate_solow_model(k0,h0,alpha,phi,delta,sK,sH,n,g,T)[1]\n",
    "\n",
    "\n",
    "fig = plt.figure()\n",
    "ax = fig.add_subplot(1,1,1)\n",
    "\n",
    "\n",
    "ax.plot(k_path[:T],'r--',label=\"Capital\")\n",
    "ax.plot(h_path[:T], label=\"Human capital\")\n",
    "plt.legend()\n",
    "plt.title(\"Steady State for capital and human capital\")\n",
    "plt.show()"
   ]
  },
  {
   "cell_type": "code",
   "execution_count": 108,
   "metadata": {},
   "outputs": [
    {
     "name": "stdout",
     "output_type": "stream",
     "text": [
      "[2.47523945 2.14520752]\n"
     ]
    }
   ],
   "source": [
    "def solver(variables) :\n",
    "    (k,h) = variables\n",
    "\n",
    "    \"\"\" Solve for the optimal values in the Solow equations\n",
    "        \n",
    "    Args:\n",
    "    \n",
    "        variables (list): The list of the unknown values in the equations\n",
    "    \n",
    "    Returns:\n",
    "    \n",
    "       first_eq, second_eq (list): The values of the two equations equal to 0\n",
    "     \n",
    "        \n",
    "    \"\"\"\n",
    "    \n",
    "    first_eq = (1/(1+n)*(1+g)) *(sK * k**(alpha) * h**(phi) - (n+g+delta+n*g)*k)   \n",
    "    second_eq = (1/(1+n)*(1+g)) *(sH * k**(alpha) * h**(phi) - (n+g+delta+n*g)*h)\n",
    "    return [first_eq, second_eq]\n",
    "\n",
    "solution = opt.fsolve(solver, (10,10))\n",
    "print(solution)\n",
    "\n"
   ]
  },
  {
   "cell_type": "code",
   "execution_count": null,
   "metadata": {},
   "outputs": [],
   "source": []
  }
 ],
 "metadata": {
  "kernelspec": {
   "display_name": "Python 3",
   "language": "python",
   "name": "python3"
  },
  "language_info": {
   "codemirror_mode": {
    "name": "ipython",
    "version": 3
   },
   "file_extension": ".py",
   "mimetype": "text/x-python",
   "name": "python",
   "nbconvert_exporter": "python",
   "pygments_lexer": "ipython3",
   "version": "3.7.1"
  }
 },
 "nbformat": 4,
 "nbformat_minor": 2
}
