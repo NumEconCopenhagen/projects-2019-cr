{
 "cells": [
  {
   "cell_type": "markdown",
   "metadata": {},
   "source": [
    "# Solow-model\n",
    "\n",
    "In this project we are working with the Solow-model with human capital.\n",
    "The parameters in the model are as follow:\n",
    "1. $K_t$ is capital\n",
    "* $H_t$ is human capital\n",
    "* $L_t$ is labor\n",
    "* $A_t$ is technology\n",
    "* $Y_t$ is GDP\n",
    "\n",
    "\n",
    "$Y_t=K_t^{\\alpha}H_t^{\\varphi}(A_tL_t)^{1-\\alpha-\\varphi}$\n",
    "\n",
    "$K_{t-1}-K_t=s_KY_t-\\delta K_t$\n",
    "\n",
    "$H_{t-1}-H_t=s_HY_t-\\delta H_t$\n",
    "\n",
    "\n",
    "$s_K = \\frac{Y_t}{I_t^{K}}$,\n",
    "$s_H = \\frac{Y_t}{I_t^{H}}$\n",
    "\n",
    "We are stricltly working with capital per effective worker shown by the lowercase letters and a $\\tilde{}$.\n",
    "\n",
    "$\\tilde{k}_t = \\frac{K_t}{A_{t}L_{t}}$, $\\tilde{h}_t = \\frac{H_t}{A_{t}L_{t}}$\n",
    "\n",
    "$\\tilde{y}_t = \\tilde{k}_t^{\\alpha}\\tilde{h}_t^{\\varphi}$\n",
    "\n",
    "\n",
    "Transition equations:\n",
    "\n",
    "$\\tilde{k}_{t+1} = \\frac{1}{(1+n)(1+g)}(s_K \\tilde{k}_t^{\\alpha}\\tilde{h}_t^{\\varphi}+(1-\\delta)\\tilde{k}_t)$\n",
    "\n",
    "$\\tilde{h}_{t+1} = \\frac{1}{(1+n)(1+g)}(s_H \\tilde{k}_t^{\\alpha}\\tilde{h}_t^{\\varphi}+(1-\\delta)\\tilde{h}_t)$\n",
    "\n",
    "Solow equations:\n",
    "\n",
    "$\\tilde{k}_{t+1}-\\tilde{k}_{t}=\\frac{1}{(1+n)(1+g)}(s_K \\tilde{k}_t^{\\alpha}\\tilde{h}_t^{\\varphi}-(n+g+\\delta+ng)\\tilde{k}_{t})$\n",
    "\n",
    "$\\tilde{h}_{t+1}-\\tilde{h}_{t}=\\frac{1}{(1+n)(1+g)}(s_H \\tilde{k}_t^{\\alpha}\\tilde{h}_t^{\\varphi}-(n+g+\\delta+ng)\\tilde{h}_{t})$\n",
    "\n",
    "\n",
    "$$$$\n",
    "\n",
    "We want to simulate the transition from an initial capital level to the steady state levels. To do this we use the\n",
    "transition equations as starting points.\n",
    "\n",
    "The transition equations describe capital levels in the __next__ __period__ based on __current__ capital levels and parameter values:\n",
    "\n",
    "\n",
    "$\\alpha$: Parameter with regards to capital\n",
    "\n",
    "$\\varphi$: Parameter with regards to human capital\n",
    "\n",
    "$\\delta$: Depreciation rate\n",
    "\n",
    "$s_K$: Saving rate with regards to capital\n",
    "\n",
    "$s_H$: Saving rate with regards to human capital\n",
    "\n",
    "n: Growth in population\n",
    "\n",
    "g: Growth in technology\n",
    "\n",
    "$$$$\n",
    "\n",
    "Firstly, we define a function which creates an array containing the two transition equations."
   ]
  },
  {
   "cell_type": "code",
   "execution_count": 22,
   "metadata": {},
   "outputs": [],
   "source": [
    "import numpy as np\n",
    "import matplotlib.pyplot as plt\n",
    "from scipy import linalg\n",
    "from scipy import optimize\n",
    "\n",
    "\n",
    "def transition_equation(k,h,alpha,phi,delta,sK,sH,n,g):\n",
    "    \"\"\" calculate capital and human capital in the next-period\n",
    "        \n",
    "    Args:\n",
    "    \n",
    "        k (float): capital in this period\n",
    "        h (float): human capital in this period\n",
    "        alpha (float): Parameter wrt. capital, empirical around 1/3\n",
    "        phi (float) = Parameter wrt. human capital, empirical around 1/3\n",
    "        delta (float): depreciation rate\n",
    "        sK (float): saving rate wrt. capital\n",
    "        sH (float): saving rate wrt. human capital\n",
    "        n (float): growth in population\n",
    "        g (float): growth in technology\n",
    "    \n",
    "    Returns:\n",
    "    \n",
    "        k_plus (float): capital in next period\n",
    "        h_plus (float): human capital in next period\n",
    "        \n",
    "    \"\"\"\n",
    "    #Transition Equations\n",
    "    k_plus = (1/(1+n)*(1+g)) *(sK * k**(alpha) * h**(phi) + (1-delta)*k)    \n",
    "    h_plus = (1/(1+n)*(1+g)) *(sH * k**(alpha) * h**(phi) + (1-delta)*h)\n",
    "    \n",
    "    return k_plus, h_plus\n",
    "   \n"
   ]
  },
  {
   "cell_type": "markdown",
   "metadata": {},
   "source": [
    "We then make a function which uses the transition equations to simulate the transition of the capital levels. \n",
    "\n",
    "It takes the parameter values as arguments but also an initial level of capital and human capital. From the parameter values and initial capital levels the function estimates the capital levels one period forward and saves these. The function then uses the new capital levels to estimate the capital levels one period later and saves these aswell. \n",
    "\n",
    "The function keeps repeating this for the specified number of periods, T. When T goes to infinity the capital levels go to their steady state values given the parameters.  "
   ]
  },
  {
   "cell_type": "code",
   "execution_count": 3,
   "metadata": {},
   "outputs": [],
   "source": [
    "def simulate_solow_model(k0,h0,alpha,phi,delta,sK,sH,n,g,T):\n",
    "    \"\"\" simulate the solow model\n",
    "        \n",
    "    Args:\n",
    "    \n",
    "        k0 (float): initial level of kapital\n",
    "        h (float): initial level of human kapital\n",
    "        alpha (float): Parameter wrt. capital, empirical around 1/3\n",
    "        phi (float) = Parameter wrt. human capital, empirical around 1/3\n",
    "        delta (float): depreciation rate\n",
    "        sK (float): saving rate wrt. capital\n",
    "        sH (float): saving rate wrt. human capital\n",
    "        n (float): growth in population\n",
    "        g (float): growth in technology\n",
    "        T (int): number of periods to simulate\n",
    "    \n",
    "    Returns:\n",
    "    \n",
    "        k_path (list): capital path (length T)\n",
    "        h_path (list): human capital path (length T)\n",
    "        \n",
    "    \"\"\"\n",
    "    \n",
    "    # a. initialize\n",
    "    k_path = [k0]\n",
    "    h_path = [h0]\n",
    "   \n",
    "    \n",
    "    # b. simulate forward\n",
    "    for t in range(1,T):\n",
    "        \n",
    "        # i. apply transition equation\n",
    "        k_plus = transition_equation(k_path[t-1],h_path[t-1],alpha,phi,delta,sK,sH,n,g)[0]  \n",
    "        h_plus = transition_equation(k_path[t-1],h_path[t-1],alpha,phi,delta,sK,sH,n,g)[1] \n",
    "        \n",
    "        # ii. save result\n",
    "        k_path.append(k_plus)\n",
    "        h_path.append(h_plus)\n",
    "        \n",
    "    return k_path, h_path\n"
   ]
  },
  {
   "cell_type": "markdown",
   "metadata": {},
   "source": [
    "A 10 period example of the function with specified parameter values is seen below:"
   ]
  },
  {
   "cell_type": "code",
   "execution_count": 4,
   "metadata": {},
   "outputs": [
    {
     "data": {
      "text/plain": [
       "([0.3,\n",
       "  0.3522877523410084,\n",
       "  0.4047144441450239,\n",
       "  0.45705558438359467,\n",
       "  0.5091436705092961,\n",
       "  0.5608498315099577,\n",
       "  0.6120721867309576,\n",
       "  0.6627283034203473,\n",
       "  0.7127502171530581,\n",
       "  0.762081085425558],\n",
       " [0.5,\n",
       "  0.522458909171731,\n",
       "  0.5472151032930342,\n",
       "  0.5738667024489372,\n",
       "  0.6020809616007525,\n",
       "  0.6315764807702755,\n",
       "  0.6621114146480014,\n",
       "  0.6934753964631387,\n",
       "  0.7254838296189005,\n",
       "  0.7579737273833608])"
      ]
     },
     "execution_count": 4,
     "metadata": {},
     "output_type": "execute_result"
    }
   ],
   "source": [
    "simulate_solow_model(0.3,0.5,0.3,0.3,0.05,0.15,0.13,0.05,0,10)"
   ]
  },
  {
   "cell_type": "markdown",
   "metadata": {},
   "source": [
    "We want so show the simulation graphically.\n",
    "\n",
    "This is simply done by using the simulation function from above and plotting these in a graph. \n",
    "\n",
    "We then add widgets which makes changing the parameters easy and intuitive for the user. The effect of changing a parameter on the transition to the steady state of the capital levels is seen immediately. "
   ]
  },
  {
   "cell_type": "code",
   "execution_count": 5,
   "metadata": {},
   "outputs": [
    {
     "data": {
      "application/vnd.jupyter.widget-view+json": {
       "model_id": "d968a8a3ccd2496b947cd54a7dae49f7",
       "version_major": 2,
       "version_minor": 0
      },
      "text/plain": [
       "interactive(children=(FloatSlider(value=1.0, description='\\\\(k_0\\\\)', max=5.0, step=0.2, style=SliderStyle(des…"
      ]
     },
     "metadata": {},
     "output_type": "display_data"
    }
   ],
   "source": [
    "style = {'description_width': \"initial\"}\n",
    "\n",
    "def simulation(k0=0.1,h0=0.1,alpha=0.3,phi=0.3,delta=0.05,sK=0.15,sH=0.14,n=0.05,g=0,T=200):\n",
    "    \"\"\" simulate the solow model\n",
    "        \n",
    "    Args:\n",
    "    \n",
    "        k0 (float): initial level of kapital\n",
    "        h (float): initial level of human kapital\n",
    "        alpha (float): Parameter wrt. capital, empirical around 1/3\n",
    "        phi (float) = Parameter wrt. human capital, empirical around 1/3\n",
    "        delta (float): depreciation rate\n",
    "        sK (float): saving rate wrt. capital\n",
    "        sH (float): saving rate wrt. human capital\n",
    "        n (float): growth in population\n",
    "        g (float): growth in technology\n",
    "        T (int): number of periods to simulate\n",
    "    \n",
    "    Returns:\n",
    "    \n",
    "        k_path (list): capital path (length T)\n",
    "        h_path (list): human capital path (length T)\n",
    "        \n",
    "    \"\"\"\n",
    "    #Estimating the transitions using the simulation function specified earlier\n",
    "    k_path = simulate_solow_model(k0,h0,alpha,phi,delta,sK,sH,n,g,T)[0]\n",
    "    h_path = simulate_solow_model(k0,h0,alpha,phi,delta,sK,sH,n,g,T)[1]\n",
    "    \n",
    "    #Plotting the simulation in a graph.\n",
    "    fig = plt.figure()\n",
    "    ax = fig.add_subplot(1,1,1)\n",
    "    ax.plot(k_path[:T],'r--',label=\"Capital\")\n",
    "    ax.plot(h_path[:T],label=\"Human capital\")\n",
    "    plt.legend()\n",
    "    plt.title(\"Steady State for capital and human capital\")\n",
    "\n",
    "#Adding widgets to change the parameter values. \n",
    "import ipywidgets as widgets\n",
    "widgets.interact(simulation,\n",
    "    k0=widgets.FloatSlider(description=r\"\\(k_0\\)\", min=0, max=5, step=0.2, value=1, style=style),\n",
    "    h0=widgets.FloatSlider(description=r\"\\(h_0\\)\", min=0, max=5, step=0.2, value=0.5, style=style),\n",
    "    alpha=widgets.FloatSlider(description=r\"\\(\\alpha\\)\", min=0, max=1, step=0.01, value=0.3,style=style),\n",
    "    phi=widgets.FloatSlider(description=r\"\\(\\varphi\\)\", min=0, max=1, step=0.01, value=0.3,style=style),\n",
    "    delta=widgets.FloatSlider(description=r\"\\(\\delta\\)\", min=0, max=1, step=0.01, value=0.05,style=style),\n",
    "    sK=widgets.FloatSlider(description=\"sK\", min=0, max=1, step=0.01, value=0.15, style=style),\n",
    "    sH=widgets.FloatSlider(description=\"sH\", min=0, max=1, step=0.01, value=0.15, style=style),\n",
    "    n=widgets.FloatSlider(description=r\"\\(n\\)\", min=0, max=1, step=0.01, value=0.05, style=style),\n",
    "    g=widgets.FloatSlider(description=r\"\\(g\\)\", min=0, max=1, step=0.01, value=0, style=style),\n",
    "    T=widgets.IntSlider(description=r\"\\(T\\)\", min=1, max=500, step=5, value=150, style=style)\n",
    "    );\n"
   ]
  },
  {
   "cell_type": "markdown",
   "metadata": {},
   "source": [
    "To compare the graphically transition to a steady state with another method, we plot the graphical transition with predetermined  parameter values below:"
   ]
  },
  {
   "cell_type": "code",
   "execution_count": 6,
   "metadata": {},
   "outputs": [
    {
     "data": {
      "image/png": "[encoded data removed]",
      "text/plain": [
       "<Figure size 432x288 with 1 Axes>"
      ]
     },
     "metadata": {
      "needs_background": "light"
     },
     "output_type": "display_data"
    }
   ],
   "source": [
    "k0 =0.3\n",
    "h0 =0.5\n",
    "alpha = 0.3\n",
    "phi = 0.3\n",
    "delta = 0.05\n",
    "sK = 0.15\n",
    "sH = 0.13\n",
    "n = 0.05\n",
    "g = 0\n",
    "T = 150\n",
    "\n",
    "k_path = simulate_solow_model(k0,h0,alpha,phi,delta,sK,sH,n,g,T)[0]\n",
    "h_path = simulate_solow_model(k0,h0,alpha,phi,delta,sK,sH,n,g,T)[1]\n",
    "\n",
    "\n",
    "fig = plt.figure()\n",
    "ax = fig.add_subplot(1,1,1)\n",
    "\n",
    "\n",
    "ax.plot(k_path[:T],'r--',label=\"Capital\")\n",
    "ax.plot(h_path[:T], label=\"Human capital\")\n",
    "plt.legend()\n",
    "plt.title(\"Steady State for capital and human capital\")\n",
    "plt.show()"
   ]
  },
  {
   "cell_type": "markdown",
   "metadata": {},
   "source": [
    "Instead of finding the steady state with a simulation we try to do it with a derivative based method. With the same parameter values we should find similar steady state values. \n",
    "\n",
    "In this case we use the Solow equations:\n",
    "\n",
    "Solow equations:\n",
    "\n",
    "$\\tilde{k}_{t+1}-\\tilde{k}_{t}=\\frac{1}{(1+n)(1+g)}(s_K \\tilde{k}_t^{\\alpha}\\tilde{h}_t^{\\varphi}-(n+g+\\delta+ng)\\tilde{k}_{t})$\n",
    "\n",
    "$\\tilde{h}_{t+1}-\\tilde{h}_{t}=\\frac{1}{(1+n)(1+g)}(s_H \\tilde{k}_t^{\\alpha}\\tilde{h}_t^{\\varphi}-(n+g+\\delta+ng)\\tilde{h}_{t})$\n",
    "\n",
    "In steady state the capital per effective worker is the same in this period and the next which implies that the Solow equations above are equal to 0.\n",
    "\n",
    "The Newton Method uses an initial guess of values as a starting point. It evaluates how far off this point is from satisfying the equation. With the derivate it evaluates which way to go for the next guess. It continues to do so and moves closer and closer to a satisfied condition.  \n",
    "\n",
    "As we in this example have two conditions to satisfy, the method evaluates which way to go with the determinant of the Jacobian matrix instead of just the derivate of one of the equations as it is now minimizing a problem in three dimensions.\n",
    "\n"
   ]
  },
  {
   "cell_type": "code",
   "execution_count": 7,
   "metadata": {},
   "outputs": [
    {
     "name": "stdout",
     "output_type": "stream",
     "text": [
      "[2.47523945 2.14520752]\n"
     ]
    }
   ],
   "source": [
    "def solver(variables) :\n",
    "    (k,h) = variables\n",
    "\n",
    "    \"\"\" Solve for the optimal values in the Solow equations\n",
    "        \n",
    "    Args:\n",
    "    \n",
    "        variables (list): The list of the unknown values in the equations\n",
    "    \n",
    "    Returns:\n",
    "    \n",
    "       first_eq, second_eq (list): The values of the two equations equal to 0\n",
    "     \n",
    "        \n",
    "    \"\"\"\n",
    "    #Specification of the two conditions\n",
    "    first_eq = (1/(1+n)*(1+g)) *(sK * k**(alpha) * h**(phi) - (n+g+delta+n*g)*k)   \n",
    "    second_eq = (1/(1+n)*(1+g)) *(sH * k**(alpha) * h**(phi) - (n+g+delta+n*g)*h)\n",
    "    return [first_eq, second_eq]\n",
    "\n",
    "#Optimize with the derivative method, Newton as standard\n",
    "solution = optimize.fsolve(solver, (10,10))\n",
    "print(solution)\n",
    "\n"
   ]
  },
  {
   "cell_type": "markdown",
   "metadata": {},
   "source": [
    "With the same parameter values we find the capital level in steady state to be 2.475 and the human capital level in steady state to be 2.145. This is the same steady state values as we found in the simulation. "
   ]
  },
  {
   "cell_type": "code",
   "execution_count": 21,
   "metadata": {},
   "outputs": [
    {
     "data": {
      "image/png": "[encoded data removed]",
      "text/plain": [
       "<Figure size 432x288 with 1 Axes>"
      ]
     },
     "metadata": {
      "needs_background": "light"
     },
     "output_type": "display_data"
    }
   ],
   "source": [
    "k_path = simulate_solow_model(k0,h0,alpha,phi,delta,sK,sH,n,g,T)[0]\n",
    "h_path = simulate_solow_model(k0,h0,alpha,phi,delta,sK,sH,n,g,T)[1]\n",
    "\n",
    "\n",
    "fig = plt.figure()\n",
    "ax = fig.add_subplot(1,1,1)\n",
    "\n",
    "\n",
    "ax.plot(k_path[:T],'r--',label=\"Capital\")\n",
    "ax.plot(h_path[:T], label=\"Human capital\")\n",
    "plt.axhline(solution[0], color=\"gray\",label=\"Optimal capital\")\n",
    "plt.axhline(solution[1], color=\"green\",label=\"Optimal human capital\")\n",
    "plt.legend()\n",
    "plt.title(\"Steady State for capital and human capital\")\n",
    "plt.show()"
   ]
  },
  {
   "cell_type": "code",
   "execution_count": null,
   "metadata": {},
   "outputs": [],
   "source": []
  }
 ],
 "metadata": {
  "kernelspec": {
   "display_name": "Python 3",
   "language": "python",
   "name": "python3"
  },
  "language_info": {
   "codemirror_mode": {
    "name": "ipython",
    "version": 3
   },
   "file_extension": ".py",
   "mimetype": "text/x-python",
   "name": "python",
   "nbconvert_exporter": "python",
   "pygments_lexer": "ipython3",
   "version": "3.7.1"
  }
 },
 "nbformat": 4,
 "nbformat_minor": 2
}
